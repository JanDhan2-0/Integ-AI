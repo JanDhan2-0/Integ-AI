{
  "nbformat": 4,
  "nbformat_minor": 0,
  "metadata": {
    "colab": {
      "name": "Copy of Sentiment-Analysis.ipynb",
      "provenance": [],
      "collapsed_sections": [],
      "include_colab_link": true
    },
    "kernelspec": {
      "name": "python3",
      "display_name": "Python 3"
    },
    "accelerator": "GPU"
  },
  "cells": [
    {
      "cell_type": "markdown",
      "metadata": {
        "id": "view-in-github",
        "colab_type": "text"
      },
      "source": [
        "<a href=\"https://colab.research.google.com/github/tanisha03/MK21_KuberTechies/blob/master/main/SentimentModel/V2/Sentiment_Analysis.ipynb\" target=\"_parent\"><img src=\"https://colab.research.google.com/assets/colab-badge.svg\" alt=\"Open In Colab\"/></a>"
      ]
    },
    {
      "cell_type": "code",
      "metadata": {
        "id": "7psPqF72KxRt",
        "colab_type": "code",
        "colab": {
          "base_uri": "https://localhost:8080/",
          "height": 34
        },
        "outputId": "41430182-5565-4dbd-8fe5-a67b72836d27"
      },
      "source": [
        "%tensorflow_version 1.x"
      ],
      "execution_count": null,
      "outputs": [
        {
          "output_type": "stream",
          "text": [
            "TensorFlow is already loaded. Please restart the runtime to change versions.\n"
          ],
          "name": "stdout"
        }
      ]
    },
    {
      "cell_type": "code",
      "metadata": {
        "id": "z_2Rj09ILjpJ",
        "colab_type": "code",
        "colab": {}
      },
      "source": [
        "from tensorflow.keras import Sequential\n",
        "from tensorflow.keras.layers import GRU, LSTM, Dense, Activation, Flatten, Dropout, Embedding\n",
        "from tensorflow.keras.preprocessing.sequence import pad_sequences\n",
        "from tensorflow.keras.preprocessing.text import Tokenizer "
      ],
      "execution_count": null,
      "outputs": []
    },
    {
      "cell_type": "code",
      "metadata": {
        "id": "GuiWrMUIWgsy",
        "colab_type": "code",
        "colab": {
          "base_uri": "https://localhost:8080/",
          "height": 1000
        },
        "outputId": "96ad5bc2-7e4f-4eb7-eac6-3ff1d56194ea"
      },
      "source": [
        "import numpy as np\n",
        "import pandas as pd\n",
        "\n",
        "import os\n",
        "import time\n",
        "import re\n",
        "\n",
        "import nltk\n",
        "nltk.download('all')\n",
        "\n",
        "import gc\n",
        "import string"
      ],
      "execution_count": null,
      "outputs": [
        {
          "output_type": "stream",
          "text": [
            "[nltk_data] Downloading collection 'all'\n",
            "[nltk_data]    | \n",
            "[nltk_data]    | Downloading package abc to /root/nltk_data...\n",
            "[nltk_data]    |   Package abc is already up-to-date!\n",
            "[nltk_data]    | Downloading package alpino to /root/nltk_data...\n",
            "[nltk_data]    |   Package alpino is already up-to-date!\n",
            "[nltk_data]    | Downloading package biocreative_ppi to\n",
            "[nltk_data]    |     /root/nltk_data...\n",
            "[nltk_data]    |   Package biocreative_ppi is already up-to-date!\n",
            "[nltk_data]    | Downloading package brown to /root/nltk_data...\n",
            "[nltk_data]    |   Package brown is already up-to-date!\n",
            "[nltk_data]    | Downloading package brown_tei to /root/nltk_data...\n",
            "[nltk_data]    |   Package brown_tei is already up-to-date!\n",
            "[nltk_data]    | Downloading package cess_cat to /root/nltk_data...\n",
            "[nltk_data]    |   Package cess_cat is already up-to-date!\n",
            "[nltk_data]    | Downloading package cess_esp to /root/nltk_data...\n",
            "[nltk_data]    |   Package cess_esp is already up-to-date!\n",
            "[nltk_data]    | Downloading package chat80 to /root/nltk_data...\n",
            "[nltk_data]    |   Package chat80 is already up-to-date!\n",
            "[nltk_data]    | Downloading package city_database to\n",
            "[nltk_data]    |     /root/nltk_data...\n",
            "[nltk_data]    |   Package city_database is already up-to-date!\n",
            "[nltk_data]    | Downloading package cmudict to /root/nltk_data...\n",
            "[nltk_data]    |   Package cmudict is already up-to-date!\n",
            "[nltk_data]    | Downloading package comparative_sentences to\n",
            "[nltk_data]    |     /root/nltk_data...\n",
            "[nltk_data]    |   Package comparative_sentences is already up-to-\n",
            "[nltk_data]    |       date!\n",
            "[nltk_data]    | Downloading package comtrans to /root/nltk_data...\n",
            "[nltk_data]    |   Package comtrans is already up-to-date!\n",
            "[nltk_data]    | Downloading package conll2000 to /root/nltk_data...\n",
            "[nltk_data]    |   Package conll2000 is already up-to-date!\n",
            "[nltk_data]    | Downloading package conll2002 to /root/nltk_data...\n",
            "[nltk_data]    |   Package conll2002 is already up-to-date!\n",
            "[nltk_data]    | Downloading package conll2007 to /root/nltk_data...\n",
            "[nltk_data]    |   Package conll2007 is already up-to-date!\n",
            "[nltk_data]    | Downloading package crubadan to /root/nltk_data...\n",
            "[nltk_data]    |   Package crubadan is already up-to-date!\n",
            "[nltk_data]    | Downloading package dependency_treebank to\n",
            "[nltk_data]    |     /root/nltk_data...\n",
            "[nltk_data]    |   Package dependency_treebank is already up-to-date!\n",
            "[nltk_data]    | Downloading package dolch to /root/nltk_data...\n",
            "[nltk_data]    |   Package dolch is already up-to-date!\n",
            "[nltk_data]    | Downloading package europarl_raw to\n",
            "[nltk_data]    |     /root/nltk_data...\n",
            "[nltk_data]    |   Package europarl_raw is already up-to-date!\n",
            "[nltk_data]    | Downloading package floresta to /root/nltk_data...\n",
            "[nltk_data]    |   Package floresta is already up-to-date!\n",
            "[nltk_data]    | Downloading package framenet_v15 to\n",
            "[nltk_data]    |     /root/nltk_data...\n",
            "[nltk_data]    |   Package framenet_v15 is already up-to-date!\n",
            "[nltk_data]    | Downloading package framenet_v17 to\n",
            "[nltk_data]    |     /root/nltk_data...\n",
            "[nltk_data]    |   Package framenet_v17 is already up-to-date!\n",
            "[nltk_data]    | Downloading package gazetteers to /root/nltk_data...\n",
            "[nltk_data]    |   Package gazetteers is already up-to-date!\n",
            "[nltk_data]    | Downloading package genesis to /root/nltk_data...\n",
            "[nltk_data]    |   Package genesis is already up-to-date!\n",
            "[nltk_data]    | Downloading package gutenberg to /root/nltk_data...\n",
            "[nltk_data]    |   Package gutenberg is already up-to-date!\n",
            "[nltk_data]    | Downloading package ieer to /root/nltk_data...\n",
            "[nltk_data]    |   Package ieer is already up-to-date!\n",
            "[nltk_data]    | Downloading package inaugural to /root/nltk_data...\n",
            "[nltk_data]    |   Package inaugural is already up-to-date!\n",
            "[nltk_data]    | Downloading package indian to /root/nltk_data...\n",
            "[nltk_data]    |   Package indian is already up-to-date!\n",
            "[nltk_data]    | Downloading package jeita to /root/nltk_data...\n",
            "[nltk_data]    |   Package jeita is already up-to-date!\n",
            "[nltk_data]    | Downloading package kimmo to /root/nltk_data...\n",
            "[nltk_data]    |   Package kimmo is already up-to-date!\n",
            "[nltk_data]    | Downloading package knbc to /root/nltk_data...\n",
            "[nltk_data]    |   Package knbc is already up-to-date!\n",
            "[nltk_data]    | Downloading package lin_thesaurus to\n",
            "[nltk_data]    |     /root/nltk_data...\n",
            "[nltk_data]    |   Package lin_thesaurus is already up-to-date!\n",
            "[nltk_data]    | Downloading package mac_morpho to /root/nltk_data...\n",
            "[nltk_data]    |   Package mac_morpho is already up-to-date!\n",
            "[nltk_data]    | Downloading package machado to /root/nltk_data...\n",
            "[nltk_data]    |   Package machado is already up-to-date!\n",
            "[nltk_data]    | Downloading package masc_tagged to /root/nltk_data...\n",
            "[nltk_data]    |   Package masc_tagged is already up-to-date!\n",
            "[nltk_data]    | Downloading package moses_sample to\n",
            "[nltk_data]    |     /root/nltk_data...\n",
            "[nltk_data]    |   Package moses_sample is already up-to-date!\n",
            "[nltk_data]    | Downloading package movie_reviews to\n",
            "[nltk_data]    |     /root/nltk_data...\n",
            "[nltk_data]    |   Package movie_reviews is already up-to-date!\n",
            "[nltk_data]    | Downloading package names to /root/nltk_data...\n",
            "[nltk_data]    |   Package names is already up-to-date!\n",
            "[nltk_data]    | Downloading package nombank.1.0 to /root/nltk_data...\n",
            "[nltk_data]    |   Package nombank.1.0 is already up-to-date!\n",
            "[nltk_data]    | Downloading package nps_chat to /root/nltk_data...\n",
            "[nltk_data]    |   Package nps_chat is already up-to-date!\n",
            "[nltk_data]    | Downloading package omw to /root/nltk_data...\n",
            "[nltk_data]    |   Package omw is already up-to-date!\n",
            "[nltk_data]    | Downloading package opinion_lexicon to\n",
            "[nltk_data]    |     /root/nltk_data...\n",
            "[nltk_data]    |   Package opinion_lexicon is already up-to-date!\n",
            "[nltk_data]    | Downloading package paradigms to /root/nltk_data...\n",
            "[nltk_data]    |   Package paradigms is already up-to-date!\n",
            "[nltk_data]    | Downloading package pil to /root/nltk_data...\n",
            "[nltk_data]    |   Package pil is already up-to-date!\n",
            "[nltk_data]    | Downloading package pl196x to /root/nltk_data...\n",
            "[nltk_data]    |   Package pl196x is already up-to-date!\n",
            "[nltk_data]    | Downloading package ppattach to /root/nltk_data...\n",
            "[nltk_data]    |   Package ppattach is already up-to-date!\n",
            "[nltk_data]    | Downloading package problem_reports to\n",
            "[nltk_data]    |     /root/nltk_data...\n",
            "[nltk_data]    |   Package problem_reports is already up-to-date!\n",
            "[nltk_data]    | Downloading package propbank to /root/nltk_data...\n",
            "[nltk_data]    |   Package propbank is already up-to-date!\n",
            "[nltk_data]    | Downloading package ptb to /root/nltk_data...\n",
            "[nltk_data]    |   Package ptb is already up-to-date!\n",
            "[nltk_data]    | Downloading package product_reviews_1 to\n",
            "[nltk_data]    |     /root/nltk_data...\n",
            "[nltk_data]    |   Package product_reviews_1 is already up-to-date!\n",
            "[nltk_data]    | Downloading package product_reviews_2 to\n",
            "[nltk_data]    |     /root/nltk_data...\n",
            "[nltk_data]    |   Package product_reviews_2 is already up-to-date!\n",
            "[nltk_data]    | Downloading package pros_cons to /root/nltk_data...\n",
            "[nltk_data]    |   Package pros_cons is already up-to-date!\n",
            "[nltk_data]    | Downloading package qc to /root/nltk_data...\n",
            "[nltk_data]    |   Package qc is already up-to-date!\n",
            "[nltk_data]    | Downloading package reuters to /root/nltk_data...\n",
            "[nltk_data]    |   Package reuters is already up-to-date!\n",
            "[nltk_data]    | Downloading package rte to /root/nltk_data...\n",
            "[nltk_data]    |   Package rte is already up-to-date!\n",
            "[nltk_data]    | Downloading package semcor to /root/nltk_data...\n",
            "[nltk_data]    |   Package semcor is already up-to-date!\n",
            "[nltk_data]    | Downloading package senseval to /root/nltk_data...\n",
            "[nltk_data]    |   Package senseval is already up-to-date!\n",
            "[nltk_data]    | Downloading package sentiwordnet to\n",
            "[nltk_data]    |     /root/nltk_data...\n",
            "[nltk_data]    |   Package sentiwordnet is already up-to-date!\n",
            "[nltk_data]    | Downloading package sentence_polarity to\n",
            "[nltk_data]    |     /root/nltk_data...\n",
            "[nltk_data]    |   Package sentence_polarity is already up-to-date!\n",
            "[nltk_data]    | Downloading package shakespeare to /root/nltk_data...\n",
            "[nltk_data]    |   Package shakespeare is already up-to-date!\n",
            "[nltk_data]    | Downloading package sinica_treebank to\n",
            "[nltk_data]    |     /root/nltk_data...\n",
            "[nltk_data]    |   Package sinica_treebank is already up-to-date!\n",
            "[nltk_data]    | Downloading package smultron to /root/nltk_data...\n",
            "[nltk_data]    |   Package smultron is already up-to-date!\n",
            "[nltk_data]    | Downloading package state_union to /root/nltk_data...\n",
            "[nltk_data]    |   Package state_union is already up-to-date!\n",
            "[nltk_data]    | Downloading package stopwords to /root/nltk_data...\n",
            "[nltk_data]    |   Package stopwords is already up-to-date!\n",
            "[nltk_data]    | Downloading package subjectivity to\n",
            "[nltk_data]    |     /root/nltk_data...\n",
            "[nltk_data]    |   Package subjectivity is already up-to-date!\n",
            "[nltk_data]    | Downloading package swadesh to /root/nltk_data...\n",
            "[nltk_data]    |   Package swadesh is already up-to-date!\n",
            "[nltk_data]    | Downloading package switchboard to /root/nltk_data...\n",
            "[nltk_data]    |   Package switchboard is already up-to-date!\n",
            "[nltk_data]    | Downloading package timit to /root/nltk_data...\n",
            "[nltk_data]    |   Package timit is already up-to-date!\n",
            "[nltk_data]    | Downloading package toolbox to /root/nltk_data...\n",
            "[nltk_data]    |   Package toolbox is already up-to-date!\n",
            "[nltk_data]    | Downloading package treebank to /root/nltk_data...\n",
            "[nltk_data]    |   Package treebank is already up-to-date!\n",
            "[nltk_data]    | Downloading package twitter_samples to\n",
            "[nltk_data]    |     /root/nltk_data...\n",
            "[nltk_data]    |   Package twitter_samples is already up-to-date!\n",
            "[nltk_data]    | Downloading package udhr to /root/nltk_data...\n",
            "[nltk_data]    |   Package udhr is already up-to-date!\n",
            "[nltk_data]    | Downloading package udhr2 to /root/nltk_data...\n",
            "[nltk_data]    |   Package udhr2 is already up-to-date!\n",
            "[nltk_data]    | Downloading package unicode_samples to\n",
            "[nltk_data]    |     /root/nltk_data...\n",
            "[nltk_data]    |   Package unicode_samples is already up-to-date!\n",
            "[nltk_data]    | Downloading package universal_treebanks_v20 to\n",
            "[nltk_data]    |     /root/nltk_data...\n",
            "[nltk_data]    |   Package universal_treebanks_v20 is already up-to-\n",
            "[nltk_data]    |       date!\n",
            "[nltk_data]    | Downloading package verbnet to /root/nltk_data...\n",
            "[nltk_data]    |   Package verbnet is already up-to-date!\n",
            "[nltk_data]    | Downloading package verbnet3 to /root/nltk_data...\n",
            "[nltk_data]    |   Package verbnet3 is already up-to-date!\n",
            "[nltk_data]    | Downloading package webtext to /root/nltk_data...\n",
            "[nltk_data]    |   Package webtext is already up-to-date!\n",
            "[nltk_data]    | Downloading package wordnet to /root/nltk_data...\n",
            "[nltk_data]    |   Package wordnet is already up-to-date!\n",
            "[nltk_data]    | Downloading package wordnet_ic to /root/nltk_data...\n",
            "[nltk_data]    |   Package wordnet_ic is already up-to-date!\n",
            "[nltk_data]    | Downloading package words to /root/nltk_data...\n",
            "[nltk_data]    |   Package words is already up-to-date!\n",
            "[nltk_data]    | Downloading package ycoe to /root/nltk_data...\n",
            "[nltk_data]    |   Package ycoe is already up-to-date!\n",
            "[nltk_data]    | Downloading package rslp to /root/nltk_data...\n",
            "[nltk_data]    |   Package rslp is already up-to-date!\n",
            "[nltk_data]    | Downloading package maxent_treebank_pos_tagger to\n",
            "[nltk_data]    |     /root/nltk_data...\n",
            "[nltk_data]    |   Package maxent_treebank_pos_tagger is already up-\n",
            "[nltk_data]    |       to-date!\n",
            "[nltk_data]    | Downloading package universal_tagset to\n",
            "[nltk_data]    |     /root/nltk_data...\n",
            "[nltk_data]    |   Package universal_tagset is already up-to-date!\n",
            "[nltk_data]    | Downloading package maxent_ne_chunker to\n",
            "[nltk_data]    |     /root/nltk_data...\n",
            "[nltk_data]    |   Package maxent_ne_chunker is already up-to-date!\n",
            "[nltk_data]    | Downloading package punkt to /root/nltk_data...\n",
            "[nltk_data]    |   Package punkt is already up-to-date!\n",
            "[nltk_data]    | Downloading package book_grammars to\n",
            "[nltk_data]    |     /root/nltk_data...\n",
            "[nltk_data]    |   Package book_grammars is already up-to-date!\n",
            "[nltk_data]    | Downloading package sample_grammars to\n",
            "[nltk_data]    |     /root/nltk_data...\n",
            "[nltk_data]    |   Package sample_grammars is already up-to-date!\n",
            "[nltk_data]    | Downloading package spanish_grammars to\n",
            "[nltk_data]    |     /root/nltk_data...\n",
            "[nltk_data]    |   Package spanish_grammars is already up-to-date!\n",
            "[nltk_data]    | Downloading package basque_grammars to\n",
            "[nltk_data]    |     /root/nltk_data...\n",
            "[nltk_data]    |   Package basque_grammars is already up-to-date!\n",
            "[nltk_data]    | Downloading package large_grammars to\n",
            "[nltk_data]    |     /root/nltk_data...\n",
            "[nltk_data]    |   Package large_grammars is already up-to-date!\n",
            "[nltk_data]    | Downloading package tagsets to /root/nltk_data...\n",
            "[nltk_data]    |   Package tagsets is already up-to-date!\n",
            "[nltk_data]    | Downloading package snowball_data to\n",
            "[nltk_data]    |     /root/nltk_data...\n",
            "[nltk_data]    |   Package snowball_data is already up-to-date!\n",
            "[nltk_data]    | Downloading package bllip_wsj_no_aux to\n",
            "[nltk_data]    |     /root/nltk_data...\n",
            "[nltk_data]    |   Package bllip_wsj_no_aux is already up-to-date!\n",
            "[nltk_data]    | Downloading package word2vec_sample to\n",
            "[nltk_data]    |     /root/nltk_data...\n",
            "[nltk_data]    |   Package word2vec_sample is already up-to-date!\n",
            "[nltk_data]    | Downloading package panlex_swadesh to\n",
            "[nltk_data]    |     /root/nltk_data...\n",
            "[nltk_data]    |   Package panlex_swadesh is already up-to-date!\n",
            "[nltk_data]    | Downloading package mte_teip5 to /root/nltk_data...\n",
            "[nltk_data]    |   Package mte_teip5 is already up-to-date!\n",
            "[nltk_data]    | Downloading package averaged_perceptron_tagger to\n",
            "[nltk_data]    |     /root/nltk_data...\n",
            "[nltk_data]    |   Package averaged_perceptron_tagger is already up-\n",
            "[nltk_data]    |       to-date!\n",
            "[nltk_data]    | Downloading package averaged_perceptron_tagger_ru to\n",
            "[nltk_data]    |     /root/nltk_data...\n",
            "[nltk_data]    |   Package averaged_perceptron_tagger_ru is already\n",
            "[nltk_data]    |       up-to-date!\n",
            "[nltk_data]    | Downloading package perluniprops to\n",
            "[nltk_data]    |     /root/nltk_data...\n",
            "[nltk_data]    |   Package perluniprops is already up-to-date!\n",
            "[nltk_data]    | Downloading package nonbreaking_prefixes to\n",
            "[nltk_data]    |     /root/nltk_data...\n",
            "[nltk_data]    |   Package nonbreaking_prefixes is already up-to-date!\n",
            "[nltk_data]    | Downloading package vader_lexicon to\n",
            "[nltk_data]    |     /root/nltk_data...\n",
            "[nltk_data]    |   Package vader_lexicon is already up-to-date!\n",
            "[nltk_data]    | Downloading package porter_test to /root/nltk_data...\n",
            "[nltk_data]    |   Package porter_test is already up-to-date!\n",
            "[nltk_data]    | Downloading package wmt15_eval to /root/nltk_data...\n",
            "[nltk_data]    |   Package wmt15_eval is already up-to-date!\n",
            "[nltk_data]    | Downloading package mwa_ppdb to /root/nltk_data...\n",
            "[nltk_data]    |   Package mwa_ppdb is already up-to-date!\n",
            "[nltk_data]    | \n",
            "[nltk_data]  Done downloading collection all\n"
          ],
          "name": "stdout"
        }
      ]
    },
    {
      "cell_type": "code",
      "metadata": {
        "id": "FLaZYvZfYe2B",
        "colab_type": "code",
        "colab": {
          "base_uri": "https://localhost:8080/",
          "height": 206
        },
        "outputId": "fc1be0fe-fe6b-4a9c-efb6-d0763616edc1"
      },
      "source": [
        "df = pd.read_csv('clean_intensity.csv')\n",
        "\n",
        "df.drop_duplicates(inplace = True)\n",
        "df.dropna(inplace = True)\n",
        "df.reset_index(inplace = True, drop = True)\n",
        "\n",
        "df.head()"
      ],
      "execution_count": null,
      "outputs": [
        {
          "output_type": "execute_result",
          "data": {
            "text/html": [
              "<div>\n",
              "<style scoped>\n",
              "    .dataframe tbody tr th:only-of-type {\n",
              "        vertical-align: middle;\n",
              "    }\n",
              "\n",
              "    .dataframe tbody tr th {\n",
              "        vertical-align: top;\n",
              "    }\n",
              "\n",
              "    .dataframe thead th {\n",
              "        text-align: right;\n",
              "    }\n",
              "</style>\n",
              "<table border=\"1\" class=\"dataframe\">\n",
              "  <thead>\n",
              "    <tr style=\"text-align: right;\">\n",
              "      <th></th>\n",
              "      <th>sentence</th>\n",
              "      <th>intensity</th>\n",
              "      <th>sentiment</th>\n",
              "    </tr>\n",
              "  </thead>\n",
              "  <tbody>\n",
              "    <tr>\n",
              "      <th>0</th>\n",
              "      <td>And my grandfather made everyone open a bank a...</td>\n",
              "      <td>-0.1</td>\n",
              "      <td>Negative</td>\n",
              "    </tr>\n",
              "    <tr>\n",
              "      <th>1</th>\n",
              "      <td>I just downloaded the app and it took me only ...</td>\n",
              "      <td>0.6</td>\n",
              "      <td>Positive</td>\n",
              "    </tr>\n",
              "    <tr>\n",
              "      <th>2</th>\n",
              "      <td>I mostly use paytm for recharge and for shoppi...</td>\n",
              "      <td>0.9</td>\n",
              "      <td>Positive</td>\n",
              "    </tr>\n",
              "    <tr>\n",
              "      <th>3</th>\n",
              "      <td>Hello friends today I am going to give my feed...</td>\n",
              "      <td>0.2</td>\n",
              "      <td>Positive</td>\n",
              "    </tr>\n",
              "    <tr>\n",
              "      <th>4</th>\n",
              "      <td>PAYTM app is most Popular app For UPI Transact...</td>\n",
              "      <td>0.9</td>\n",
              "      <td>Positive</td>\n",
              "    </tr>\n",
              "  </tbody>\n",
              "</table>\n",
              "</div>"
            ],
            "text/plain": [
              "                                            sentence  intensity sentiment\n",
              "0  And my grandfather made everyone open a bank a...       -0.1  Negative\n",
              "1  I just downloaded the app and it took me only ...        0.6  Positive\n",
              "2  I mostly use paytm for recharge and for shoppi...        0.9  Positive\n",
              "3  Hello friends today I am going to give my feed...        0.2  Positive\n",
              "4  PAYTM app is most Popular app For UPI Transact...        0.9  Positive"
            ]
          },
          "metadata": {
            "tags": []
          },
          "execution_count": 23
        }
      ]
    },
    {
      "cell_type": "code",
      "metadata": {
        "id": "ZPZKuhasfn5M",
        "colab_type": "code",
        "colab": {
          "base_uri": "https://localhost:8080/",
          "height": 300
        },
        "outputId": "61856e57-06b1-4f4f-d087-c4d0e40faab1"
      },
      "source": [
        "df.describe()"
      ],
      "execution_count": null,
      "outputs": [
        {
          "output_type": "execute_result",
          "data": {
            "text/html": [
              "<div>\n",
              "<style scoped>\n",
              "    .dataframe tbody tr th:only-of-type {\n",
              "        vertical-align: middle;\n",
              "    }\n",
              "\n",
              "    .dataframe tbody tr th {\n",
              "        vertical-align: top;\n",
              "    }\n",
              "\n",
              "    .dataframe thead th {\n",
              "        text-align: right;\n",
              "    }\n",
              "</style>\n",
              "<table border=\"1\" class=\"dataframe\">\n",
              "  <thead>\n",
              "    <tr style=\"text-align: right;\">\n",
              "      <th></th>\n",
              "      <th>intensity</th>\n",
              "    </tr>\n",
              "  </thead>\n",
              "  <tbody>\n",
              "    <tr>\n",
              "      <th>count</th>\n",
              "      <td>6842.000000</td>\n",
              "    </tr>\n",
              "    <tr>\n",
              "      <th>mean</th>\n",
              "      <td>-0.040061</td>\n",
              "    </tr>\n",
              "    <tr>\n",
              "      <th>std</th>\n",
              "      <td>0.615526</td>\n",
              "    </tr>\n",
              "    <tr>\n",
              "      <th>min</th>\n",
              "      <td>-0.900000</td>\n",
              "    </tr>\n",
              "    <tr>\n",
              "      <th>25%</th>\n",
              "      <td>-0.700000</td>\n",
              "    </tr>\n",
              "    <tr>\n",
              "      <th>50%</th>\n",
              "      <td>-0.100000</td>\n",
              "    </tr>\n",
              "    <tr>\n",
              "      <th>75%</th>\n",
              "      <td>0.600000</td>\n",
              "    </tr>\n",
              "    <tr>\n",
              "      <th>max</th>\n",
              "      <td>0.900000</td>\n",
              "    </tr>\n",
              "  </tbody>\n",
              "</table>\n",
              "</div>"
            ],
            "text/plain": [
              "         intensity\n",
              "count  6842.000000\n",
              "mean     -0.040061\n",
              "std       0.615526\n",
              "min      -0.900000\n",
              "25%      -0.700000\n",
              "50%      -0.100000\n",
              "75%       0.600000\n",
              "max       0.900000"
            ]
          },
          "metadata": {
            "tags": []
          },
          "execution_count": 24
        }
      ]
    },
    {
      "cell_type": "code",
      "metadata": {
        "id": "zCxEmJHWU7qU",
        "colab_type": "code",
        "colab": {}
      },
      "source": [
        "def normalize(data):\n",
        "\n",
        "  data = data.lower()\n",
        "  data = data.strip(string.punctuation)\n",
        "\n",
        "  return data"
      ],
      "execution_count": null,
      "outputs": []
    },
    {
      "cell_type": "code",
      "metadata": {
        "id": "V9qbPlGTVVYm",
        "colab_type": "code",
        "colab": {}
      },
      "source": [
        "def map_sentiment(review):\n",
        "  \n",
        "  if review == 'Negative':\n",
        "    return 0\n",
        "  elif review == 'Positive':\n",
        "    return 1"
      ],
      "execution_count": null,
      "outputs": []
    },
    {
      "cell_type": "code",
      "metadata": {
        "id": "Z4rD96bqVrR0",
        "colab_type": "code",
        "colab": {}
      },
      "source": [
        "try:\n",
        "\n",
        "  df['sentence'] = df['sentence'].apply(lambda x : normalize(x))\n",
        "  df['sentiment'] = df['sentiment'].apply(lambda x : map_sentiment(x))\n",
        "\n",
        "except Exception as e:\n",
        "\n",
        "  print(e)\n",
        "  pass"
      ],
      "execution_count": null,
      "outputs": []
    },
    {
      "cell_type": "code",
      "metadata": {
        "id": "fEDUCfpyWK2F",
        "colab_type": "code",
        "colab": {
          "base_uri": "https://localhost:8080/",
          "height": 206
        },
        "outputId": "ab069f62-65bf-4036-bb0d-fcdc69a8db13"
      },
      "source": [
        "df.head()"
      ],
      "execution_count": null,
      "outputs": [
        {
          "output_type": "execute_result",
          "data": {
            "text/html": [
              "<div>\n",
              "<style scoped>\n",
              "    .dataframe tbody tr th:only-of-type {\n",
              "        vertical-align: middle;\n",
              "    }\n",
              "\n",
              "    .dataframe tbody tr th {\n",
              "        vertical-align: top;\n",
              "    }\n",
              "\n",
              "    .dataframe thead th {\n",
              "        text-align: right;\n",
              "    }\n",
              "</style>\n",
              "<table border=\"1\" class=\"dataframe\">\n",
              "  <thead>\n",
              "    <tr style=\"text-align: right;\">\n",
              "      <th></th>\n",
              "      <th>sentence</th>\n",
              "      <th>intensity</th>\n",
              "      <th>sentiment</th>\n",
              "    </tr>\n",
              "  </thead>\n",
              "  <tbody>\n",
              "    <tr>\n",
              "      <th>0</th>\n",
              "      <td>and my grandfather made everyone open a bank a...</td>\n",
              "      <td>-0.1</td>\n",
              "      <td>0</td>\n",
              "    </tr>\n",
              "    <tr>\n",
              "      <th>1</th>\n",
              "      <td>i just downloaded the app and it took me only ...</td>\n",
              "      <td>0.6</td>\n",
              "      <td>1</td>\n",
              "    </tr>\n",
              "    <tr>\n",
              "      <th>2</th>\n",
              "      <td>i mostly use paytm for recharge and for shoppi...</td>\n",
              "      <td>0.9</td>\n",
              "      <td>1</td>\n",
              "    </tr>\n",
              "    <tr>\n",
              "      <th>3</th>\n",
              "      <td>hello friends today i am going to give my feed...</td>\n",
              "      <td>0.2</td>\n",
              "      <td>1</td>\n",
              "    </tr>\n",
              "    <tr>\n",
              "      <th>4</th>\n",
              "      <td>paytm app is most popular app for upi transact...</td>\n",
              "      <td>0.9</td>\n",
              "      <td>1</td>\n",
              "    </tr>\n",
              "  </tbody>\n",
              "</table>\n",
              "</div>"
            ],
            "text/plain": [
              "                                            sentence  intensity  sentiment\n",
              "0  and my grandfather made everyone open a bank a...       -0.1          0\n",
              "1  i just downloaded the app and it took me only ...        0.6          1\n",
              "2  i mostly use paytm for recharge and for shoppi...        0.9          1\n",
              "3  hello friends today i am going to give my feed...        0.2          1\n",
              "4  paytm app is most popular app for upi transact...        0.9          1"
            ]
          },
          "metadata": {
            "tags": []
          },
          "execution_count": 28
        }
      ]
    },
    {
      "cell_type": "code",
      "metadata": {
        "id": "qSEnRHvZWoe-",
        "colab_type": "code",
        "colab": {}
      },
      "source": [
        "corpus = df['sentence'].tolist()\n",
        "\n",
        "t = Tokenizer()\n",
        "t.fit_on_texts(corpus)\n",
        "X = t.texts_to_sequences(corpus)"
      ],
      "execution_count": null,
      "outputs": []
    },
    {
      "cell_type": "code",
      "metadata": {
        "id": "9NPYzimKW6_r",
        "colab_type": "code",
        "colab": {
          "base_uri": "https://localhost:8080/",
          "height": 34
        },
        "outputId": "0d91317f-b0bc-4bda-9c97-f636239fe5f1"
      },
      "source": [
        "count = len(X)\n",
        "mean = sum([len(x) for x in X]) / count\n",
        "\n",
        "print('Average length of the sentence : {}'.format(mean))"
      ],
      "execution_count": null,
      "outputs": [
        {
          "output_type": "stream",
          "text": [
            "Average length of the sentence : 26.299473838059047\n"
          ],
          "name": "stdout"
        }
      ]
    },
    {
      "cell_type": "code",
      "metadata": {
        "id": "gfmov1bXX-Qa",
        "colab_type": "code",
        "colab": {
          "base_uri": "https://localhost:8080/",
          "height": 34
        },
        "outputId": "185ede3b-0367-488c-d33f-5aa44bd5f795"
      },
      "source": [
        "#num words\n",
        "\n",
        "num_words = len(t.word_index)+1\n",
        "\n",
        "print('Number of unique words in the dataset : {}'.format(num_words))\n"
      ],
      "execution_count": null,
      "outputs": [
        {
          "output_type": "stream",
          "text": [
            "Number of unique words in the dataset : 9390\n"
          ],
          "name": "stdout"
        }
      ]
    },
    {
      "cell_type": "code",
      "metadata": {
        "id": "1AADVnaMYtj5",
        "colab_type": "code",
        "colab": {}
      },
      "source": [
        "from sklearn.model_selection import train_test_split\n",
        "\n",
        "x_tr, x_te, y_tr, y_te = train_test_split(X, df['sentiment'], test_size = 0.2)"
      ],
      "execution_count": null,
      "outputs": []
    },
    {
      "cell_type": "code",
      "metadata": {
        "id": "sSQKxW8kZfip",
        "colab_type": "code",
        "colab": {}
      },
      "source": [
        "x_tr, x_te = pad_sequences(x_tr, maxlen=30), pad_sequences(x_te, maxlen=30)"
      ],
      "execution_count": null,
      "outputs": []
    },
    {
      "cell_type": "code",
      "metadata": {
        "id": "Sc3JCaCnY925",
        "colab_type": "code",
        "colab": {
          "base_uri": "https://localhost:8080/",
          "height": 34
        },
        "outputId": "60a2dabe-f4d2-4193-d79e-50a2fdcf7bd9"
      },
      "source": [
        "try :\n",
        "  \n",
        "  x_tr, x_te = np.array(x_tr), np.array(x_te)\n",
        "  y_tr, y_te = np.array(y_tr), np.array(y_te)\n",
        "\n",
        "except Exception as e:\n",
        "  pass\n",
        "\n",
        "\n",
        "x_tr.shape, x_te.shape, y_tr.shape, y_te.shape"
      ],
      "execution_count": null,
      "outputs": [
        {
          "output_type": "execute_result",
          "data": {
            "text/plain": [
              "((5473, 30), (1369, 30), (5473,), (1369,))"
            ]
          },
          "metadata": {
            "tags": []
          },
          "execution_count": 45
        }
      ]
    },
    {
      "cell_type": "code",
      "metadata": {
        "id": "VOSyUCr2Ztgd",
        "colab_type": "code",
        "colab": {}
      },
      "source": [
        "from tensorflow.keras.layers import Bidirectional, MaxPooling1D"
      ],
      "execution_count": null,
      "outputs": []
    },
    {
      "cell_type": "code",
      "metadata": {
        "id": "VTkCPHTQfwuA",
        "colab_type": "code",
        "colab": {}
      },
      "source": [
        "# make a simple sentiment model\n",
        "\n",
        "model = Sequential()\n",
        "\n",
        "model.add(Embedding(num_words, 128, input_length=x_tr.shape[1]))\n",
        "# model.add(Flatten())\n",
        "model.add(Bidirectional(GRU(256)))\n",
        "model.add(Dropout(0.5))\n",
        "model.add(Dense(100))\n",
        "model.add(Activation('relu'))\n",
        "model.add(Dropout(0.5))\n",
        "model.add(Dense(1))\n",
        "model.add(Activation('sigmoid'))\n",
        "\n",
        "model.compile(optimizer='adam', metrics=['accuracy'], loss='binary_crossentropy')"
      ],
      "execution_count": null,
      "outputs": []
    },
    {
      "cell_type": "code",
      "metadata": {
        "id": "AXAK7sQujc7Y",
        "colab_type": "code",
        "colab": {
          "base_uri": "https://localhost:8080/",
          "height": 434
        },
        "outputId": "12533b44-1c41-4eed-ab00-460cb5059278"
      },
      "source": [
        "model.summary()"
      ],
      "execution_count": null,
      "outputs": [
        {
          "output_type": "stream",
          "text": [
            "Model: \"sequential_4\"\n",
            "_________________________________________________________________\n",
            "Layer (type)                 Output Shape              Param #   \n",
            "=================================================================\n",
            "embedding_4 (Embedding)      (None, 30, 128)           1201920   \n",
            "_________________________________________________________________\n",
            "bidirectional_5 (Bidirection (None, 512)               592896    \n",
            "_________________________________________________________________\n",
            "dropout (Dropout)            (None, 512)               0         \n",
            "_________________________________________________________________\n",
            "dense (Dense)                (None, 100)               51300     \n",
            "_________________________________________________________________\n",
            "activation (Activation)      (None, 100)               0         \n",
            "_________________________________________________________________\n",
            "dropout_1 (Dropout)          (None, 100)               0         \n",
            "_________________________________________________________________\n",
            "dense_1 (Dense)              (None, 1)                 101       \n",
            "_________________________________________________________________\n",
            "activation_1 (Activation)    (None, 1)                 0         \n",
            "=================================================================\n",
            "Total params: 1,846,217\n",
            "Trainable params: 1,846,217\n",
            "Non-trainable params: 0\n",
            "_________________________________________________________________\n"
          ],
          "name": "stdout"
        }
      ]
    },
    {
      "cell_type": "code",
      "metadata": {
        "id": "-2ovPJj6ka6A",
        "colab_type": "code",
        "colab": {}
      },
      "source": [
        "from tensorflow.keras.callbacks import EarlyStopping, ModelCheckpoint\n",
        "\n",
        "ckpt_a = ModelCheckpoint(filepath='best_acc_bank_weights.hdf5', save_best_only=True, save_weights_only=True, monitor='val_accuracy')\n",
        "ckpt_l = ModelCheckpoint(filepath='best_loss_bank_weights.hdf5', save_best_only=True, save_weights_only=True, monitor='val_loss')"
      ],
      "execution_count": null,
      "outputs": []
    },
    {
      "cell_type": "code",
      "metadata": {
        "id": "DGg1GS8K7Mye",
        "colab_type": "code",
        "colab": {}
      },
      "source": [
        "def save_model_to_json(model, filename):\n",
        "\n",
        "  model_json = model.to_json()\n",
        "  with open(filename, 'w') as json_file :\n",
        "    json_file.write(model_json)\n",
        "\n",
        "  print('Model saved in json format in {}'.format(filename))\n",
        "\n",
        "\n",
        "def open_model_from_json(filename, weights):\n",
        "\n",
        "  from tensorflow.keras.models import model_from_json\n",
        "\n",
        "  json_file = open(filename, 'r')\n",
        "  loaded_model_json = json_file.read()\n",
        "  json_file.close()\n",
        "\n",
        "  loaded_model = model_from_json(loaded_model_json)\n",
        "  loaded_model.load_weights(weights)\n",
        "  print('Model loaded successfully')\n",
        "\n",
        "  return loaded_model"
      ],
      "execution_count": null,
      "outputs": []
    },
    {
      "cell_type": "code",
      "metadata": {
        "id": "-B_A9w3dJ2nM",
        "colab_type": "code",
        "colab": {
          "base_uri": "https://localhost:8080/",
          "height": 1000
        },
        "outputId": "9acc5481-cea8-4e46-a10a-9016f653ed67"
      },
      "source": [
        "history = model.fit(x_tr, y_tr, validation_data=(x_te, y_te), epochs=30, callbacks = [ckpt_a, ckpt_l], batch_size=16)"
      ],
      "execution_count": null,
      "outputs": [
        {
          "output_type": "stream",
          "text": [
            "Epoch 1/30\n",
            "343/343 [==============================] - 7s 20ms/step - loss: 0.1366 - accuracy: 0.9499 - val_loss: 0.6484 - val_accuracy: 0.7736\n",
            "Epoch 2/30\n",
            "343/343 [==============================] - 7s 19ms/step - loss: 0.0740 - accuracy: 0.9711 - val_loss: 0.7495 - val_accuracy: 0.7670\n",
            "Epoch 3/30\n",
            "343/343 [==============================] - 7s 19ms/step - loss: 0.0441 - accuracy: 0.9848 - val_loss: 0.9462 - val_accuracy: 0.7743\n",
            "Epoch 4/30\n",
            "343/343 [==============================] - 7s 19ms/step - loss: 0.0288 - accuracy: 0.9894 - val_loss: 1.1283 - val_accuracy: 0.7765\n",
            "Epoch 5/30\n",
            "343/343 [==============================] - 7s 20ms/step - loss: 0.0232 - accuracy: 0.9921 - val_loss: 1.0938 - val_accuracy: 0.7706\n",
            "Epoch 6/30\n",
            "343/343 [==============================] - 7s 19ms/step - loss: 0.0202 - accuracy: 0.9936 - val_loss: 1.1386 - val_accuracy: 0.7670\n",
            "Epoch 7/30\n",
            "343/343 [==============================] - 7s 20ms/step - loss: 0.0230 - accuracy: 0.9912 - val_loss: 1.5341 - val_accuracy: 0.7626\n",
            "Epoch 8/30\n",
            "343/343 [==============================] - 7s 19ms/step - loss: 0.0195 - accuracy: 0.9929 - val_loss: 1.3275 - val_accuracy: 0.7597\n",
            "Epoch 9/30\n",
            "343/343 [==============================] - 7s 19ms/step - loss: 0.0177 - accuracy: 0.9934 - val_loss: 1.5656 - val_accuracy: 0.7714\n",
            "Epoch 10/30\n",
            "343/343 [==============================] - 7s 19ms/step - loss: 0.0081 - accuracy: 0.9984 - val_loss: 1.5834 - val_accuracy: 0.7699\n",
            "Epoch 11/30\n",
            "343/343 [==============================] - 7s 19ms/step - loss: 0.0038 - accuracy: 0.9991 - val_loss: 1.9513 - val_accuracy: 0.7568\n",
            "Epoch 12/30\n",
            "343/343 [==============================] - 7s 19ms/step - loss: 0.0065 - accuracy: 0.9978 - val_loss: 1.6545 - val_accuracy: 0.7757\n",
            "Epoch 13/30\n",
            "343/343 [==============================] - 7s 20ms/step - loss: 0.0210 - accuracy: 0.9934 - val_loss: 1.4929 - val_accuracy: 0.7692\n",
            "Epoch 14/30\n",
            "343/343 [==============================] - 7s 19ms/step - loss: 0.0202 - accuracy: 0.9942 - val_loss: 1.6376 - val_accuracy: 0.7677\n",
            "Epoch 15/30\n",
            "343/343 [==============================] - 7s 20ms/step - loss: 0.0161 - accuracy: 0.9938 - val_loss: 1.2564 - val_accuracy: 0.7787\n",
            "Epoch 16/30\n",
            "343/343 [==============================] - 7s 20ms/step - loss: 0.0142 - accuracy: 0.9949 - val_loss: 1.5196 - val_accuracy: 0.7750\n",
            "Epoch 17/30\n",
            "343/343 [==============================] - 7s 20ms/step - loss: 0.0037 - accuracy: 0.9985 - val_loss: 1.7952 - val_accuracy: 0.7714\n",
            "Epoch 18/30\n",
            "343/343 [==============================] - 6s 19ms/step - loss: 0.0213 - accuracy: 0.9938 - val_loss: 1.5163 - val_accuracy: 0.7648\n",
            "Epoch 19/30\n",
            "343/343 [==============================] - 6s 19ms/step - loss: 0.0075 - accuracy: 0.9980 - val_loss: 1.5732 - val_accuracy: 0.7779\n",
            "Epoch 20/30\n",
            "343/343 [==============================] - 7s 19ms/step - loss: 0.0020 - accuracy: 0.9996 - val_loss: 1.6447 - val_accuracy: 0.7655\n",
            "Epoch 21/30\n",
            "343/343 [==============================] - 7s 19ms/step - loss: 8.5556e-04 - accuracy: 0.9996 - val_loss: 1.8015 - val_accuracy: 0.7801\n",
            "Epoch 22/30\n",
            "343/343 [==============================] - 7s 19ms/step - loss: 6.3118e-04 - accuracy: 0.9996 - val_loss: 2.0501 - val_accuracy: 0.7728\n",
            "Epoch 23/30\n",
            "343/343 [==============================] - 6s 19ms/step - loss: 0.0079 - accuracy: 0.9973 - val_loss: 1.3018 - val_accuracy: 0.7655\n",
            "Epoch 24/30\n",
            "343/343 [==============================] - 6s 19ms/step - loss: 0.0153 - accuracy: 0.9949 - val_loss: 1.7173 - val_accuracy: 0.7692\n",
            "Epoch 25/30\n",
            "343/343 [==============================] - 6s 19ms/step - loss: 0.0114 - accuracy: 0.9967 - val_loss: 1.3715 - val_accuracy: 0.7772\n",
            "Epoch 26/30\n",
            "343/343 [==============================] - 6s 19ms/step - loss: 0.0036 - accuracy: 0.9989 - val_loss: 1.6893 - val_accuracy: 0.7765\n",
            "Epoch 27/30\n",
            "343/343 [==============================] - 6s 18ms/step - loss: 0.0026 - accuracy: 0.9996 - val_loss: 1.7759 - val_accuracy: 0.7728\n",
            "Epoch 28/30\n",
            "343/343 [==============================] - 6s 18ms/step - loss: 0.0093 - accuracy: 0.9974 - val_loss: 1.6771 - val_accuracy: 0.7736\n",
            "Epoch 29/30\n",
            "343/343 [==============================] - 6s 18ms/step - loss: 0.0085 - accuracy: 0.9978 - val_loss: 1.5786 - val_accuracy: 0.7589\n",
            "Epoch 30/30\n",
            "343/343 [==============================] - 6s 18ms/step - loss: 0.0014 - accuracy: 0.9995 - val_loss: 2.0751 - val_accuracy: 0.7677\n"
          ],
          "name": "stdout"
        }
      ]
    },
    {
      "cell_type": "code",
      "metadata": {
        "id": "2-7KS8jT9Idr",
        "colab_type": "code",
        "colab": {
          "base_uri": "https://localhost:8080/",
          "height": 52
        },
        "outputId": "f6b1dc18-b973-4811-b87c-884f814d39bf"
      },
      "source": [
        "save_model_to_json(model,'model.json')\n",
        "\n",
        "model = open_model_from_json(filename='model.json', weights='best_acc_bank_weights.hdf5')\n",
        "model.compile(loss='binary_crossentropy', metrics=['accuracy'], optimizer='adam')"
      ],
      "execution_count": null,
      "outputs": [
        {
          "output_type": "stream",
          "text": [
            "Model saved in json format in model.json\n",
            "Model loaded successfully\n"
          ],
          "name": "stdout"
        }
      ]
    },
    {
      "cell_type": "code",
      "metadata": {
        "id": "rlUrhpVZjzkd",
        "colab_type": "code",
        "colab": {
          "base_uri": "https://localhost:8080/",
          "height": 34
        },
        "outputId": "bbbc6682-1eeb-4fc8-b10a-792700c46623"
      },
      "source": [
        "# save your tokenizer\n",
        "import pickle\n",
        "\n",
        "with open('tokenizer.pickle','wb') as f:\n",
        "  pickle.dump(t, f)\n",
        "\n",
        "#open and check\n",
        "\n",
        "tokenizer = pickle.load(open('tokenizer.pickle','rb'))\n",
        "\n",
        "test_sent = tokenizer.texts_to_sequences(['This is really nice to have!'])\n",
        "print(test_sent)"
      ],
      "execution_count": null,
      "outputs": [
        {
          "output_type": "stream",
          "text": [
            "[[8, 6, 144, 267, 5, 19]]\n"
          ],
          "name": "stdout"
        }
      ]
    },
    {
      "cell_type": "code",
      "metadata": {
        "id": "j9XxC3ZmmKTK",
        "colab_type": "code",
        "colab": {
          "base_uri": "https://localhost:8080/",
          "height": 34
        },
        "outputId": "00f48b09-a1de-44d4-ffe2-90e107207e22"
      },
      "source": [
        "#load model, weights, tokenizers\n",
        "\n",
        "model = open_model_from_json(filename='model.json', weights='best_acc_bank_weights.hdf5')\n",
        "model.compile(loss = 'binary_crossentropy',\n",
        "              metrics=['accuracy'],\n",
        "              optimizer='adam')\n",
        "tokenizer = pickle.load(open('tokenizer.pickle','rb'))\n"
      ],
      "execution_count": null,
      "outputs": [
        {
          "output_type": "stream",
          "text": [
            "Model loaded successfully\n"
          ],
          "name": "stdout"
        }
      ]
    },
    {
      "cell_type": "code",
      "metadata": {
        "id": "NhZhbqrjMg4g",
        "colab_type": "code",
        "colab": {}
      },
      "source": [
        "def testing_function(review, tokenizer = tokenizer, model = model, maxlen=30):\n",
        "\n",
        "  \"\"\"\n",
        "    Enter review, get the clasification as positive or negative (1 or 0 respectively)\n",
        "    Returns : class of prediciton | Type : <str>\n",
        "              certainty | Type <float>\n",
        "  \"\"\"\n",
        "\n",
        "  review = normalize(review)\n",
        "  feature_vec = tokenizer.texts_to_sequences([review])\n",
        "\n",
        "  feature_vec = pad_sequences(feature_vec, maxlen=maxlen)\n",
        "\n",
        "  predictions = model.predict(feature_vec)[0]\n",
        "\n",
        "  classes = ['negative','positive']\n",
        "\n",
        "  pred = 0 if predictions <0.5 else 1\n",
        "  certainty = 1-predictions[0] if pred == 0 else predictions[0]\n",
        "\n",
        "  print('\"{}\" : Class : |{}|, Intensity : |{:.2f}%|'.format(review, classes[pred], certainty*100))\n",
        "\n",
        "  return classes[pred], certainty"
      ],
      "execution_count": null,
      "outputs": []
    },
    {
      "cell_type": "code",
      "metadata": {
        "id": "eVwYII2zMqwH",
        "colab_type": "code",
        "colab": {
          "base_uri": "https://localhost:8080/",
          "height": 52
        },
        "outputId": "f41fc844-5aa2-4dfa-bcb2-e2a5a072e1ef"
      },
      "source": [
        "testing_function('The atm has a cool ac')"
      ],
      "execution_count": null,
      "outputs": [
        {
          "output_type": "stream",
          "text": [
            "\"the atm has a cool ac\" : Class : |positive|, Intensity : |99.96%|\n"
          ],
          "name": "stdout"
        },
        {
          "output_type": "execute_result",
          "data": {
            "text/plain": [
              "('positive', 0.99960965)"
            ]
          },
          "metadata": {
            "tags": []
          },
          "execution_count": 79
        }
      ]
    },
    {
      "cell_type": "code",
      "metadata": {
        "id": "s-rG40aOrqzN",
        "colab_type": "code",
        "colab": {}
      },
      "source": [
        ""
      ],
      "execution_count": null,
      "outputs": []
    },
    {
      "cell_type": "code",
      "metadata": {
        "id": "TbZWzyKdLjPZ",
        "colab_type": "code",
        "colab": {}
      },
      "source": [
        ""
      ],
      "execution_count": null,
      "outputs": []
    }
  ]
}